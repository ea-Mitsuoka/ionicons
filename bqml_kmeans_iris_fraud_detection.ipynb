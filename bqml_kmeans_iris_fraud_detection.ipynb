{
  "nbformat": 4,
  "nbformat_minor": 0,
  "metadata": {
    "colab": {
      "name": "bqml_kmeans_iris_fraud_detection",
      "provenance": [],
      "include_colab_link": true
    },
    "kernelspec": {
      "name": "python3",
      "display_name": "Python 3"
    }
  },
  "cells": [
    {
      "cell_type": "markdown",
      "metadata": {
        "id": "view-in-github",
        "colab_type": "text"
      },
      "source": [
        "<a href=\"https://colab.research.google.com/github/ea-Mitsuoka/ionicons/blob/master/bqml_kmeans_iris_fraud_detection.ipynb\" target=\"_parent\"><img src=\"https://colab.research.google.com/assets/colab-badge.svg\" alt=\"Open In Colab\"/></a>"
      ]
    },
    {
      "cell_type": "markdown",
      "metadata": {
        "id": "ufnRHzX6NKqi",
        "colab_type": "text"
      },
      "source": [
        "---\n",
        "```\n",
        "Copyright 2019 Google LLC\n",
        "\n",
        "Licensed under the Apache License, Version 2.0 (the \"License\"); you may not use this file except in compliance with the License. You may obtain a copy of the License at\n",
        "\n",
        "https://www.apache.org/licenses/LICENSE-2.0\n",
        "\n",
        "Unless required by applicable law or agreed to in writing, software distributed under the License is distributed on an \"AS IS\" BASIS, WITHOUT WARRANTIES OR CONDITIONS OF ANY KIND, either express or implied. See the License for the specific language governing permissions and limitations under the License.\n",
        "```\n",
        "---"
      ]
    },
    {
      "cell_type": "markdown",
      "metadata": {
        "id": "dB30suHhNvix",
        "colab_type": "text"
      },
      "source": [
        "# 概要\n",
        "このノートブックでは、K-Meansクラスタリングを使用して外れ値を探すタスクを実行します。これは、データセット内のグループを見つけるためのシンプルな教師なし学習手法です。\n",
        "\n",
        "### データセット\n",
        "デフォルトでは、このノートブックはBigQueryのサンプルであるbigquery-public-dataプロジェクトのirisデータセットを使います。これは 3 種のアイリス（Iris setosa、Iris virginicaおよびIris versicolor）それぞれ50サンプルで構成されています。各サンプルについて、がくと花びらの長さと幅（センチメートル）が測定されています。これら4つの機能の組み合わせに基づいて、統計学者で生物学者のロナルドフィッシャーは、種を互いに区別するための線形判別モデルを開発しました。\n",
        "\n",
        "### 目的\n",
        "がくと花びらの長さと幅をクラスタリングし、各種別の外れ値を特定します。\n",
        "\n",
        "### 費用\n",
        "\n",
        "このチュートリアルでは、Google BigQuery および BigQuery ML を使います。金額について詳細は  [BigQuery ML pricing](https://cloud.google.com/bigquery-ml/pricing) [Pricing\n",
        "Calculator](https://cloud.google.com/products/calculator/)\n",
        "を参照ください。"
      ]
    },
    {
      "cell_type": "markdown",
      "metadata": {
        "id": "5XV4Oxm3DmrX",
        "colab_type": "text"
      },
      "source": [
        ""
      ]
    },
    {
      "cell_type": "markdown",
      "metadata": {
        "id": "1FlmhAvVOPq6",
        "colab_type": "text"
      },
      "source": [
        "### 事前準備\n",
        "\n",
        "**このノートブックを実行するには事前に次の手順が必要です。**\n",
        "\n",
        "1. [GCP プロジェクトの作成もしくは選択](https://console.cloud.google.com/cloud-resource-manager). 最初にアカウントを作成すると、300ドルの無料クレジットが付与されます。\n",
        "\n",
        "2. [課金設定を有効にします](https://cloud.google.com/billing/docs/how-to/modify-project)\n",
        "\n",
        "3.   [BigQuery API](https://console.cloud.google.com/flows/enableapi?apiid=bigquery) を有効にします。\n",
        "\n",
        "4. 下のセルを実行し、Google アカウントでログインして表示されるキーをセルに入力します。\n",
        "\n",
        "5. 「プロジェクト変数の設定」のセルにご自身のプロジェクトIDを入力してください。"
      ]
    },
    {
      "cell_type": "code",
      "metadata": {
        "id": "4XokJlWcZXxV",
        "colab_type": "code",
        "colab": {
          "base_uri": "https://localhost:8080/",
          "height": 51
        },
        "outputId": "75e520d1-b9e8-4b0f-f23c-59564392d0c4"
      },
      "source": [
        "import pandas as pd\n",
        "import numpy as np\n",
        "import sys\n",
        "from google.cloud import bigquery\n",
        "from google.colab import auth\n",
        "import matplotlib.pyplot as plt\n",
        "import seaborn as sns"
      ],
      "execution_count": null,
      "outputs": [
        {
          "output_type": "stream",
          "text": [
            "/usr/local/lib/python3.6/dist-packages/statsmodels/tools/_testing.py:19: FutureWarning: pandas.util.testing is deprecated. Use the functions in the public API at pandas.testing instead.\n",
            "  import pandas.util.testing as tm\n"
          ],
          "name": "stderr"
        }
      ]
    },
    {
      "cell_type": "code",
      "metadata": {
        "id": "iLAZypbW8aEm",
        "colab_type": "code",
        "colab": {}
      },
      "source": [
        "auth.authenticate_user()"
      ],
      "execution_count": null,
      "outputs": []
    },
    {
      "cell_type": "code",
      "metadata": {
        "id": "LWhL7HaQBbFE",
        "colab_type": "code",
        "colab": {}
      },
      "source": [
        "#@title プロジェクト変数の設定 { run: \"auto\", display-mode: \"form\" }\n",
        "project_id = 'kmikibqml' #@param {type:\"string\"}\n",
        "#dataset_name = \"ga\" #@param {type:\"string\"}\n",
        "client = bigquery.Client(project=project_id)"
      ],
      "execution_count": null,
      "outputs": []
    },
    {
      "cell_type": "markdown",
      "metadata": {
        "id": "sMQ90bpeBDrI",
        "colab_type": "text"
      },
      "source": [
        "まず、モデルを保存するためのデータセットが必要になります。 （エラーが発生した場合は、BigQueryコンソールから\"iris\"というデータセットを作成してください）。"
      ]
    },
    {
      "cell_type": "code",
      "metadata": {
        "id": "C_YFn7ArBF6X",
        "colab_type": "code",
        "colab": {
          "base_uri": "https://localhost:8080/",
          "height": 34
        },
        "outputId": "c8db0729-79aa-437a-c374-f8a3330c239f"
      },
      "source": [
        "%%bash -s \"$project_id\"\n",
        "\n",
        "gcloud config set project $1\n",
        "bq --location=US mk -d iris"
      ],
      "execution_count": null,
      "outputs": [
        {
          "output_type": "stream",
          "text": [
            "Process is terminated.\n"
          ],
          "name": "stdout"
        }
      ]
    },
    {
      "cell_type": "markdown",
      "metadata": {
        "id": "TJphDW5abpA4",
        "colab_type": "text"
      },
      "source": [
        "## kmeansでクラスタリング\n",
        "このセクションでは、k-meansクラスタリングアルゴリズムを使用してirisデータをセグメント化します。 sepal_length, sepal_width, petal_length, petal_width の4つの指標に基づいてグループ分けします。\n",
        "最初にデータセットをクエリしk-meansアルゴリズムを適用します。"
      ]
    },
    {
      "cell_type": "code",
      "metadata": {
        "id": "H8Xx9qSBYSgv",
        "colab_type": "code",
        "colab": {}
      },
      "source": [
        "query = '''\n",
        "SELECT * from bigquery-public-data.ml_datasets.iris\n",
        "'''\n",
        "iris = client.query(query).to_dataframe()"
      ],
      "execution_count": null,
      "outputs": []
    },
    {
      "cell_type": "code",
      "metadata": {
        "id": "77E25TmWZL9z",
        "colab_type": "code",
        "colab": {
          "base_uri": "https://localhost:8080/",
          "height": 204
        },
        "outputId": "454b0429-d99a-4462-8103-37fb39506bf1"
      },
      "source": [
        "iris.head()"
      ],
      "execution_count": null,
      "outputs": [
        {
          "output_type": "execute_result",
          "data": {
            "text/html": [
              "<div>\n",
              "<style scoped>\n",
              "    .dataframe tbody tr th:only-of-type {\n",
              "        vertical-align: middle;\n",
              "    }\n",
              "\n",
              "    .dataframe tbody tr th {\n",
              "        vertical-align: top;\n",
              "    }\n",
              "\n",
              "    .dataframe thead th {\n",
              "        text-align: right;\n",
              "    }\n",
              "</style>\n",
              "<table border=\"1\" class=\"dataframe\">\n",
              "  <thead>\n",
              "    <tr style=\"text-align: right;\">\n",
              "      <th></th>\n",
              "      <th>sepal_length</th>\n",
              "      <th>sepal_width</th>\n",
              "      <th>petal_length</th>\n",
              "      <th>petal_width</th>\n",
              "      <th>species</th>\n",
              "    </tr>\n",
              "  </thead>\n",
              "  <tbody>\n",
              "    <tr>\n",
              "      <th>0</th>\n",
              "      <td>5.1</td>\n",
              "      <td>2.5</td>\n",
              "      <td>3.0</td>\n",
              "      <td>1.1</td>\n",
              "      <td>versicolor</td>\n",
              "    </tr>\n",
              "    <tr>\n",
              "      <th>1</th>\n",
              "      <td>5.0</td>\n",
              "      <td>2.0</td>\n",
              "      <td>3.5</td>\n",
              "      <td>1.0</td>\n",
              "      <td>versicolor</td>\n",
              "    </tr>\n",
              "    <tr>\n",
              "      <th>2</th>\n",
              "      <td>5.7</td>\n",
              "      <td>2.6</td>\n",
              "      <td>3.5</td>\n",
              "      <td>1.0</td>\n",
              "      <td>versicolor</td>\n",
              "    </tr>\n",
              "    <tr>\n",
              "      <th>3</th>\n",
              "      <td>6.0</td>\n",
              "      <td>2.2</td>\n",
              "      <td>4.0</td>\n",
              "      <td>1.0</td>\n",
              "      <td>versicolor</td>\n",
              "    </tr>\n",
              "    <tr>\n",
              "      <th>4</th>\n",
              "      <td>5.8</td>\n",
              "      <td>2.6</td>\n",
              "      <td>4.0</td>\n",
              "      <td>1.2</td>\n",
              "      <td>versicolor</td>\n",
              "    </tr>\n",
              "  </tbody>\n",
              "</table>\n",
              "</div>"
            ],
            "text/plain": [
              "   sepal_length  sepal_width  petal_length  petal_width     species\n",
              "0           5.1          2.5           3.0          1.1  versicolor\n",
              "1           5.0          2.0           3.5          1.0  versicolor\n",
              "2           5.7          2.6           3.5          1.0  versicolor\n",
              "3           6.0          2.2           4.0          1.0  versicolor\n",
              "4           5.8          2.6           4.0          1.2  versicolor"
            ]
          },
          "metadata": {
            "tags": []
          },
          "execution_count": 10
        }
      ]
    },
    {
      "cell_type": "code",
      "metadata": {
        "id": "PXR8gJP_rbkm",
        "colab_type": "code",
        "colab": {
          "base_uri": "https://localhost:8080/",
          "height": 280
        },
        "outputId": "11b0446b-a899-4355-9b11-05a786140308"
      },
      "source": [
        "plt.scatter(iris.petal_length, iris.petal_width)\n",
        "plt.xlabel(\"petal_length\"); plt.ylabel(\"petal_width\")\n",
        "plt.show()"
      ],
      "execution_count": null,
      "outputs": [
        {
          "output_type": "display_data",
          "data": {
            "image/png": "[encoded data removed]",
            "text/plain": [
              "<Figure size 432x288 with 1 Axes>"
            ]
          },
          "metadata": {
            "tags": [],
            "needs_background": "light"
          }
        }
      ]
    },
    {
      "cell_type": "code",
      "metadata": {
        "id": "slqroTazKRzv",
        "colab_type": "code",
        "colab": {}
      },
      "source": [
        "#df = df[df['petal_length'] < 150]\n",
        "num_points = len(iris)"
      ],
      "execution_count": null,
      "outputs": []
    },
    {
      "cell_type": "code",
      "metadata": {
        "id": "iCj_pSRdFc_h",
        "colab_type": "code",
        "colab": {
          "base_uri": "https://localhost:8080/",
          "height": 280
        },
        "outputId": "200c3c82-7659-42cb-e147-a68a64113634"
      },
      "source": [
        "y = np.random.binomial(n = 1, p = 0.5, size = num_points)    # 割り振り\n",
        "plt.scatter(iris.petal_length, iris.petal_width, c = y)\n",
        "plt.xlabel(\"petal_length\"); plt.ylabel(\"petal_width\")\n",
        "plt.show()"
      ],
      "execution_count": null,
      "outputs": [
        {
          "output_type": "display_data",
          "data": {
            "image/png": "[encoded data removed]",
            "text/plain": [
              "<Figure size 432x288 with 1 Axes>"
            ]
          },
          "metadata": {
            "tags": [],
            "needs_background": "light"
          }
        }
      ]
    },
    {
      "cell_type": "code",
      "metadata": {
        "id": "C8V0Xf57FvKq",
        "colab_type": "code",
        "colab": {
          "base_uri": "https://localhost:8080/",
          "height": 111
        },
        "outputId": "05f649ac-83d6-4eb9-a02f-73cb128eb57d"
      },
      "source": [
        "#各クラスターの重心を計算\n",
        "center = pd.DataFrame(iris, columns = [\"petal_length\", \"petal_width\"]).assign(y = y).groupby(y).mean()\n",
        "center"
      ],
      "execution_count": null,
      "outputs": [
        {
          "output_type": "execute_result",
          "data": {
            "text/html": [
              "<div>\n",
              "<style scoped>\n",
              "    .dataframe tbody tr th:only-of-type {\n",
              "        vertical-align: middle;\n",
              "    }\n",
              "\n",
              "    .dataframe tbody tr th {\n",
              "        vertical-align: top;\n",
              "    }\n",
              "\n",
              "    .dataframe thead th {\n",
              "        text-align: right;\n",
              "    }\n",
              "</style>\n",
              "<table border=\"1\" class=\"dataframe\">\n",
              "  <thead>\n",
              "    <tr style=\"text-align: right;\">\n",
              "      <th></th>\n",
              "      <th>petal_length</th>\n",
              "      <th>petal_width</th>\n",
              "      <th>y</th>\n",
              "    </tr>\n",
              "  </thead>\n",
              "  <tbody>\n",
              "    <tr>\n",
              "      <th>0</th>\n",
              "      <td>3.604878</td>\n",
              "      <td>1.121951</td>\n",
              "      <td>0</td>\n",
              "    </tr>\n",
              "    <tr>\n",
              "      <th>1</th>\n",
              "      <td>3.944118</td>\n",
              "      <td>1.291176</td>\n",
              "      <td>1</td>\n",
              "    </tr>\n",
              "  </tbody>\n",
              "</table>\n",
              "</div>"
            ],
            "text/plain": [
              "   petal_length  petal_width  y\n",
              "0      3.604878     1.121951  0\n",
              "1      3.944118     1.291176  1"
            ]
          },
          "metadata": {
            "tags": []
          },
          "execution_count": 15
        }
      ]
    },
    {
      "cell_type": "markdown",
      "metadata": {
        "id": "oLLdtoroGaCg",
        "colab_type": "text"
      },
      "source": [
        "ここでは、k-means法のイメージを紹介するため、データ全体を2クラスタに分割して可視化しています。具体的には、各データポイントの重心からの近さを2乗距離で計算し、この結果をもとに各データポイントのクラスターを近いほうの重心に対応するクラスターに更新します。"
      ]
    },
    {
      "cell_type": "code",
      "metadata": {
        "id": "fMTXazqEGWAB",
        "colab_type": "code",
        "colab": {
          "base_uri": "https://localhost:8080/",
          "height": 265
        },
        "outputId": "aa4252e7-3076-4072-c457-d5e0c2c49a87"
      },
      "source": [
        "# クラスターの重心をnumpy配列で抽出する。\n",
        "center_cluster_0 = center.loc[0, [\"petal_length\", \"petal_width\"]].values\n",
        "center_cluster_1 = center.loc[1, [\"petal_length\", \"petal_width\"]].values\n",
        "\n",
        "# 各データポイントについてクラスターからの2乗距離を計算する。_\n",
        "dist_cluster_0 = (iris.petal_length.values.reshape(num_points) - center_cluster_0[0])**2 + (iris.petal_width.values.reshape(num_points) - center_cluster_0[1])**2\n",
        "dist_cluster_1 = (iris.petal_length.values.reshape(num_points) - center_cluster_1[0])**2 + (iris.petal_width.values.reshape(num_points) - center_cluster_1[1])**2\n",
        "new_cluster_id = dist_cluster_0 < dist_cluster_1\n",
        "\n",
        "# 可視化\n",
        "plt.scatter(iris.petal_length, iris.petal_width, c = new_cluster_id)\n",
        "plt.show()"
      ],
      "execution_count": null,
      "outputs": [
        {
          "output_type": "display_data",
          "data": {
            "image/png": "[encoded data removed]",
            "text/plain": [
              "<Figure size 432x288 with 1 Axes>"
            ]
          },
          "metadata": {
            "tags": [],
            "needs_background": "light"
          }
        }
      ]
    },
    {
      "cell_type": "markdown",
      "metadata": {
        "id": "E4cTePIkb8Yd",
        "colab_type": "text"
      },
      "source": [
        "2つのクラスターに分かれました。このように重心の計算・クラスターの更新を繰り返すことでクラスターをまとめていきます。\n",
        "\n",
        "トレーニング データを確認できたので、 BQML で K 平均法モデルを作成します。\n",
        "\n",
        "CREATE MODEL ステートメントを model_type=kmeans オプションで使用することで、K 平均法モデルの作成とトレーニングが行えます。"
      ]
    },
    {
      "cell_type": "code",
      "metadata": {
        "id": "oauym3lRKv4g",
        "colab_type": "code",
        "colab": {
          "base_uri": "https://localhost:8080/",
          "height": 34
        },
        "outputId": "0778c7cf-a5df-4bdd-d48f-e1e37b9dd65a"
      },
      "source": [
        "query = '''\n",
        "CREATE OR REPLACE MODEL\n",
        "  iris.iris_clusters\n",
        "OPTIONS\n",
        "  (model_type='kmeans',\n",
        "    num_clusters=4,\n",
        "    standardize_features = TRUE) AS\n",
        "SELECT\n",
        "  DISTINCT petal_length,\n",
        "  petal_width,\n",
        "  petal_length,\n",
        "  petal_width,\n",
        "  species\n",
        "FROM\n",
        "  `bigquery-public-data.ml_datasets.iris`\n",
        "'''\n",
        "client.query(query)"
      ],
      "execution_count": null,
      "outputs": [
        {
          "output_type": "execute_result",
          "data": {
            "text/plain": [
              "<google.cloud.bigquery.job.QueryJob at 0x7f7ecbe1ea20>"
            ]
          },
          "metadata": {
            "tags": []
          },
          "execution_count": 19
        }
      ]
    },
    {
      "cell_type": "markdown",
      "metadata": {
        "id": "Kq-WhKL49Ede",
        "colab_type": "text"
      },
      "source": [
        "k-meansでは、データポイントがクラスターの中心（「質量の中心」）に近いほど、クラスター内の他のデータポイントと比較される「平均」が高くなり、この中心はセントロイドと呼ばれます。つまり、データの異常を見つけるために実行できるアプローチの1つは、クラスターの重心から最も離れたデータポイントを見つけることです。 ML.PREDICT関数は、各データポイントと最も近い重心からの距離を含む配列を返します。UNNEST関数を使用して、この配列を平坦化し、最小距離（最も近い重心までの距離）のみを取ることができます。"
      ]
    },
    {
      "cell_type": "code",
      "metadata": {
        "id": "Ii9j4rSCvD61",
        "colab_type": "code",
        "colab": {
          "base_uri": "https://localhost:8080/",
          "height": 297
        },
        "outputId": "929a28d0-8348-4ca8-f26a-824c94c72d40"
      },
      "source": [
        "query = \"\"\"\n",
        "WITH\n",
        "  Distances AS (\n",
        "  SELECT\n",
        "    DISTINCT ML.CENTROID_ID,\n",
        "    sepal_length,\n",
        "    sepal_width,\n",
        "    petal_length,\n",
        "    petal_width,\n",
        "    species,\n",
        "    MIN(NEAREST_CENTROIDS_DISTANCE.DISTANCE) AS distance_from_closest_centroid\n",
        "  FROM\n",
        "    ML.PREDICT(MODEL iris.iris_clusters,\n",
        "      (\n",
        "      SELECT\n",
        "        DISTINCT sepal_length,\n",
        "        sepal_width,\n",
        "        petal_length,\n",
        "        petal_width,\n",
        "        species\n",
        "      FROM\n",
        "        `bigquery-public-data.ml_datasets.iris` )) AS ML\n",
        "  CROSS JOIN\n",
        "    UNNEST(NEAREST_CENTROIDS_DISTANCE) AS NEAREST_CENTROIDS_DISTANCE\n",
        "  GROUP BY\n",
        "    ML.CENTROID_ID,\n",
        "    sepal_length,\n",
        "    sepal_width,\n",
        "    petal_length,\n",
        "    petal_width,\n",
        "    species ),\n",
        "  Threshold AS (\n",
        "    # BigQueryの近似集計関数を使用して95パーセンタイルを計算\n",
        "  SELECT\n",
        "    ROUND(APPROX_QUANTILES(distance_from_closest_centroid,10000)[\n",
        "    OFFSET\n",
        "      (9500)],2) AS threshold\n",
        "  FROM\n",
        "    Distances)\n",
        "SELECT\n",
        "  d.*\n",
        "FROM\n",
        "  Distances d\n",
        "JOIN\n",
        "  Threshold\n",
        "ON\n",
        "  d.distance_from_closest_centroid > Threshold.threshold\n",
        "  \"\"\"\n",
        "df = client.query(query).to_dataframe()\n",
        "df"
      ],
      "execution_count": null,
      "outputs": [
        {
          "output_type": "execute_result",
          "data": {
            "text/html": [
              "<div>\n",
              "<style scoped>\n",
              "    .dataframe tbody tr th:only-of-type {\n",
              "        vertical-align: middle;\n",
              "    }\n",
              "\n",
              "    .dataframe tbody tr th {\n",
              "        vertical-align: top;\n",
              "    }\n",
              "\n",
              "    .dataframe thead th {\n",
              "        text-align: right;\n",
              "    }\n",
              "</style>\n",
              "<table border=\"1\" class=\"dataframe\">\n",
              "  <thead>\n",
              "    <tr style=\"text-align: right;\">\n",
              "      <th></th>\n",
              "      <th>CENTROID_ID</th>\n",
              "      <th>sepal_length</th>\n",
              "      <th>sepal_width</th>\n",
              "      <th>petal_length</th>\n",
              "      <th>petal_width</th>\n",
              "      <th>species</th>\n",
              "      <th>distance_from_closest_centroid</th>\n",
              "    </tr>\n",
              "  </thead>\n",
              "  <tbody>\n",
              "    <tr>\n",
              "      <th>0</th>\n",
              "      <td>3</td>\n",
              "      <td>7.9</td>\n",
              "      <td>3.8</td>\n",
              "      <td>6.4</td>\n",
              "      <td>2.0</td>\n",
              "      <td>virginica</td>\n",
              "      <td>2.391954</td>\n",
              "    </tr>\n",
              "    <tr>\n",
              "      <th>1</th>\n",
              "      <td>3</td>\n",
              "      <td>7.7</td>\n",
              "      <td>2.6</td>\n",
              "      <td>6.9</td>\n",
              "      <td>2.3</td>\n",
              "      <td>virginica</td>\n",
              "      <td>1.773253</td>\n",
              "    </tr>\n",
              "    <tr>\n",
              "      <th>2</th>\n",
              "      <td>2</td>\n",
              "      <td>7.0</td>\n",
              "      <td>3.2</td>\n",
              "      <td>4.7</td>\n",
              "      <td>1.4</td>\n",
              "      <td>versicolor</td>\n",
              "      <td>1.710653</td>\n",
              "    </tr>\n",
              "    <tr>\n",
              "      <th>3</th>\n",
              "      <td>2</td>\n",
              "      <td>4.9</td>\n",
              "      <td>2.5</td>\n",
              "      <td>4.5</td>\n",
              "      <td>1.7</td>\n",
              "      <td>virginica</td>\n",
              "      <td>1.962832</td>\n",
              "    </tr>\n",
              "    <tr>\n",
              "      <th>4</th>\n",
              "      <td>3</td>\n",
              "      <td>7.7</td>\n",
              "      <td>3.8</td>\n",
              "      <td>6.7</td>\n",
              "      <td>2.2</td>\n",
              "      <td>virginica</td>\n",
              "      <td>2.300738</td>\n",
              "    </tr>\n",
              "    <tr>\n",
              "      <th>5</th>\n",
              "      <td>1</td>\n",
              "      <td>4.5</td>\n",
              "      <td>2.3</td>\n",
              "      <td>1.3</td>\n",
              "      <td>0.3</td>\n",
              "      <td>setosa</td>\n",
              "      <td>2.233512</td>\n",
              "    </tr>\n",
              "    <tr>\n",
              "      <th>6</th>\n",
              "      <td>2</td>\n",
              "      <td>6.0</td>\n",
              "      <td>2.2</td>\n",
              "      <td>5.0</td>\n",
              "      <td>1.5</td>\n",
              "      <td>virginica</td>\n",
              "      <td>1.907077</td>\n",
              "    </tr>\n",
              "    <tr>\n",
              "      <th>7</th>\n",
              "      <td>2</td>\n",
              "      <td>5.0</td>\n",
              "      <td>2.0</td>\n",
              "      <td>3.5</td>\n",
              "      <td>1.0</td>\n",
              "      <td>versicolor</td>\n",
              "      <td>2.113245</td>\n",
              "    </tr>\n",
              "  </tbody>\n",
              "</table>\n",
              "</div>"
            ],
            "text/plain": [
              "   CENTROID_ID  sepal_length  ...     species  distance_from_closest_centroid\n",
              "0            3           7.9  ...   virginica                        2.391954\n",
              "1            3           7.7  ...   virginica                        1.773253\n",
              "2            2           7.0  ...  versicolor                        1.710653\n",
              "3            2           4.9  ...   virginica                        1.962832\n",
              "4            3           7.7  ...   virginica                        2.300738\n",
              "5            1           4.5  ...      setosa                        2.233512\n",
              "6            2           6.0  ...   virginica                        1.907077\n",
              "7            2           5.0  ...  versicolor                        2.113245\n",
              "\n",
              "[8 rows x 7 columns]"
            ]
          },
          "metadata": {
            "tags": []
          },
          "execution_count": 29
        }
      ]
    },
    {
      "cell_type": "markdown",
      "metadata": {
        "id": "LsxF2oZSPVSy",
        "colab_type": "text"
      },
      "source": [
        "これらの外れ値が実際にどれほどまれであるかを確認してみましょう。virginicaの種の場合、がく片の長さ7.7、がく片の幅は2.6、花弁の長さは6.9、花弁の幅は2.3というのはどれほど珍しいでしょうか。 \n",
        "\n",
        "virginica種の特徴のヒストグラムをプロットしてみましょう。"
      ]
    },
    {
      "cell_type": "code",
      "metadata": {
        "id": "jlO8yL2VPtuK",
        "colab_type": "code",
        "colab": {
          "base_uri": "https://localhost:8080/",
          "height": 693
        },
        "outputId": "997783cd-ade8-441f-a20f-cdb881bae7f3"
      },
      "source": [
        "from pylab import rcParams\n",
        "rcParams['figure.figsize'] = 10, 10\n",
        "iris.query('species==\"virginica\"').hist(bins=10)\n"
      ],
      "execution_count": null,
      "outputs": [
        {
          "output_type": "execute_result",
          "data": {
            "text/plain": [
              "array([[<matplotlib.axes._subplots.AxesSubplot object at 0x7fed2eeb4ba8>,\n",
              "        <matplotlib.axes._subplots.AxesSubplot object at 0x7fed2ef638d0>],\n",
              "       [<matplotlib.axes._subplots.AxesSubplot object at 0x7fed2ef55ba8>,\n",
              "        <matplotlib.axes._subplots.AxesSubplot object at 0x7fed2f17bf28>]],\n",
              "      dtype=object)"
            ]
          },
          "metadata": {
            "tags": []
          },
          "execution_count": 37
        },
        {
          "output_type": "display_data",
          "data": {
            "image/png": "[encoded data removed]",
            "text/plain": [
              "<Figure size 720x720 with 4 Axes>"
            ]
          },
          "metadata": {
            "tags": [],
            "needs_background": "light"
          }
        }
      ]
    },
    {
      "cell_type": "code",
      "metadata": {
        "id": "sZI9fcg8U7gb",
        "colab_type": "code",
        "colab": {}
      },
      "source": [
        "_ = df.hist(column='weight_pounds',by='is_male', layout=(1,2),  sharey=True, sharex=True)"
      ],
      "execution_count": null,
      "outputs": []
    },
    {
      "cell_type": "markdown",
      "metadata": {
        "id": "lO27xGv1Clgs",
        "colab_type": "text"
      },
      "source": [
        "### クリーンアップ\n",
        "すべての作業が完了したら、以下のURLを参考に、プロジェクトを必要に応じてクリーンアップしてください。\n",
        "https://cloud.google.com/go/getting-started/delete-tutorial-resources?hl=ja"
      ]
    }
  ]
}