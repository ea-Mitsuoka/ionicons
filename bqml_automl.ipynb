{
  "nbformat": 4,
  "nbformat_minor": 0,
  "metadata": {
    "colab": {
      "name": "bqml_automl",
      "provenance": [],
      "include_colab_link": true
    },
    "kernelspec": {
      "name": "python3",
      "display_name": "Python 3"
    }
  },
  "cells": [
    {
      "cell_type": "markdown",
      "metadata": {
        "id": "view-in-github",
        "colab_type": "text"
      },
      "source": [
        "<a href=\"https://colab.research.google.com/github/ea-Mitsuoka/ionicons/blob/master/bqml_automl.ipynb\" target=\"_parent\"><img src=\"https://colab.research.google.com/assets/colab-badge.svg\" alt=\"Open In Colab\"/></a>"
      ]
    },
    {
      "cell_type": "markdown",
      "metadata": {
        "id": "ufnRHzX6NKqi",
        "colab_type": "text"
      },
      "source": [
        "---\n",
        "```\n",
        "Copyright 2019 Google LLC\n",
        "\n",
        "Licensed under the Apache License, Version 2.0 (the \"License\"); you may not use this file except in compliance with the License. You may obtain a copy of the License at\n",
        "\n",
        "https://www.apache.org/licenses/LICENSE-2.0\n",
        "\n",
        "Unless required by applicable law or agreed to in writing, software distributed under the License is distributed on an \"AS IS\" BASIS, WITHOUT WARRANTIES OR CONDITIONS OF ANY KIND, either express or implied. See the License for the specific language governing permissions and limitations under the License.\n",
        "```\n",
        "---"
      ]
    },
    {
      "cell_type": "markdown",
      "metadata": {
        "id": "dB30suHhNvix",
        "colab_type": "text"
      },
      "source": [
        "# 概要\n",
        "このノートブックでは、BigQuery MLのAutoMLでLTV予測を行うモデル作成を行っています。\n",
        "\n",
        "\n",
        "### 費用\n",
        "\n",
        "このチュートリアルでは、Google BigQuery および BigQuery ML を使います。金額について詳細は  [BigQuery ML pricing](https://cloud.google.com/bigquery-ml/pricing) [Pricing\n",
        "Calculator](https://cloud.google.com/products/calculator/)\n",
        "を参照ください。"
      ]
    },
    {
      "cell_type": "markdown",
      "metadata": {
        "id": "5XV4Oxm3DmrX",
        "colab_type": "text"
      },
      "source": [
        ""
      ]
    },
    {
      "cell_type": "markdown",
      "metadata": {
        "id": "1FlmhAvVOPq6",
        "colab_type": "text"
      },
      "source": [
        "### 事前準備\n",
        "\n",
        "**このノートブックを実行するには事前に次の手順が必要です。**\n",
        "\n",
        "1. [GCP プロジェクトの作成もしくは選択](https://console.cloud.google.com/cloud-resource-manager). 最初にアカウントを作成すると、300ドルの無料クレジットが付与されます。\n",
        "\n",
        "2. [課金設定を有効にします](https://cloud.google.com/billing/docs/how-to/modify-project)\n",
        "\n",
        "3.   [BigQuery API](https://console.cloud.google.com/flows/enableapi?apiid=bigquery) を有効にします。\n",
        "\n",
        "4. 下のセルを実行し、Google アカウントでログインして表示されるキーをセルに入力します。\n",
        "\n",
        "5. 「プロジェクト変数の設定」のセルにご自身のプロジェクトIDを入力してください。"
      ]
    },
    {
      "cell_type": "code",
      "metadata": {
        "id": "4XokJlWcZXxV",
        "colab_type": "code",
        "colab": {
          "base_uri": "https://localhost:8080/",
          "height": 71
        },
        "outputId": "838add14-7f12-4ec3-8088-48c33819ce78"
      },
      "source": [
        "import pandas as pd\n",
        "import numpy as np\n",
        "import sys\n",
        "from google.cloud import bigquery\n",
        "from google.colab import auth\n",
        "import matplotlib.pyplot as plt\n",
        "import seaborn as sns"
      ],
      "execution_count": null,
      "outputs": [
        {
          "output_type": "stream",
          "text": [
            "/usr/local/lib/python3.6/dist-packages/statsmodels/tools/_testing.py:19: FutureWarning: pandas.util.testing is deprecated. Use the functions in the public API at pandas.testing instead.\n",
            "  import pandas.util.testing as tm\n"
          ],
          "name": "stderr"
        }
      ]
    },
    {
      "cell_type": "code",
      "metadata": {
        "id": "iLAZypbW8aEm",
        "colab_type": "code",
        "colab": {}
      },
      "source": [
        "auth.authenticate_user()"
      ],
      "execution_count": null,
      "outputs": []
    },
    {
      "cell_type": "code",
      "metadata": {
        "id": "LWhL7HaQBbFE",
        "colab_type": "code",
        "colab": {}
      },
      "source": [
        "#@title プロジェクト変数の設定 { run: \"auto\", display-mode: \"form\" }\n",
        "project_id = '' #@param {type:\"string\"}\n",
        "#dataset_name = \"ga\" #@param {type:\"string\"}\n",
        "client = bigquery.Client(project=project_id)"
      ],
      "execution_count": null,
      "outputs": []
    },
    {
      "cell_type": "markdown",
      "metadata": {
        "id": "sMQ90bpeBDrI",
        "colab_type": "text"
      },
      "source": [
        "まず、モデルを保存するためのデータセットが必要になります。 （エラーが発生した場合は、BigQueryコンソールから\"automl\"というデータセットを作成してください）。"
      ]
    },
    {
      "cell_type": "code",
      "metadata": {
        "id": "C_YFn7ArBF6X",
        "colab_type": "code",
        "colab": {
          "base_uri": "https://localhost:8080/",
          "height": 34
        },
        "outputId": "c8db0729-79aa-437a-c374-f8a3330c239f"
      },
      "source": [
        "%%bash -s \"$project_id\"\n",
        "\n",
        "gcloud config set project $1\n",
        "bq --location=US mk -d automl"
      ],
      "execution_count": null,
      "outputs": [
        {
          "output_type": "stream",
          "text": [
            "Process is terminated.\n"
          ],
          "name": "stdout"
        }
      ]
    },
    {
      "cell_type": "markdown",
      "metadata": {
        "id": "TJphDW5abpA4",
        "colab_type": "text"
      },
      "source": [
        "## データセット読み取り\n",
        "このセクションでは、BigQueryでLTV分析用のデータセットをクエリしています。"
      ]
    },
    {
      "cell_type": "code",
      "metadata": {
        "id": "H8Xx9qSBYSgv",
        "colab_type": "code",
        "colab": {}
      },
      "source": [
        "query = '''\n",
        "SELECT * from ltv.ltv_features\n",
        "'''\n",
        "df = client.query(query).to_dataframe()"
      ],
      "execution_count": null,
      "outputs": []
    },
    {
      "cell_type": "code",
      "metadata": {
        "id": "77E25TmWZL9z",
        "colab_type": "code",
        "colab": {
          "base_uri": "https://localhost:8080/",
          "height": 204
        },
        "outputId": "0f366d82-41d5-4fed-ee6a-dab7afc5f7dd"
      },
      "source": [
        "df.head()"
      ],
      "execution_count": null,
      "outputs": [
        {
          "output_type": "execute_result",
          "data": {
            "text/html": [
              "<div>\n",
              "<style scoped>\n",
              "    .dataframe tbody tr th:only-of-type {\n",
              "        vertical-align: middle;\n",
              "    }\n",
              "\n",
              "    .dataframe tbody tr th {\n",
              "        vertical-align: top;\n",
              "    }\n",
              "\n",
              "    .dataframe thead th {\n",
              "        text-align: right;\n",
              "    }\n",
              "</style>\n",
              "<table border=\"1\" class=\"dataframe\">\n",
              "  <thead>\n",
              "    <tr style=\"text-align: right;\">\n",
              "      <th></th>\n",
              "      <th>customer_id</th>\n",
              "      <th>monetary</th>\n",
              "      <th>frequency</th>\n",
              "      <th>recency</th>\n",
              "      <th>T</th>\n",
              "      <th>time_between</th>\n",
              "      <th>avg_basket_value</th>\n",
              "      <th>avg_basket_size</th>\n",
              "      <th>cnt_returns</th>\n",
              "      <th>has_returned</th>\n",
              "      <th>target_monetary</th>\n",
              "    </tr>\n",
              "  </thead>\n",
              "  <tbody>\n",
              "    <tr>\n",
              "      <th>0</th>\n",
              "      <td>17198</td>\n",
              "      <td>521.66</td>\n",
              "      <td>2</td>\n",
              "      <td>6</td>\n",
              "      <td>248</td>\n",
              "      <td>3.0</td>\n",
              "      <td>260.83</td>\n",
              "      <td>121.0</td>\n",
              "      <td>0</td>\n",
              "      <td>0</td>\n",
              "      <td>692.22</td>\n",
              "    </tr>\n",
              "    <tr>\n",
              "      <th>1</th>\n",
              "      <td>18180</td>\n",
              "      <td>601.85</td>\n",
              "      <td>2</td>\n",
              "      <td>6</td>\n",
              "      <td>19</td>\n",
              "      <td>3.0</td>\n",
              "      <td>300.92</td>\n",
              "      <td>276.5</td>\n",
              "      <td>0</td>\n",
              "      <td>0</td>\n",
              "      <td>1843.75</td>\n",
              "    </tr>\n",
              "    <tr>\n",
              "      <th>2</th>\n",
              "      <td>13884</td>\n",
              "      <td>189.95</td>\n",
              "      <td>2</td>\n",
              "      <td>6</td>\n",
              "      <td>160</td>\n",
              "      <td>3.0</td>\n",
              "      <td>94.97</td>\n",
              "      <td>31.0</td>\n",
              "      <td>0</td>\n",
              "      <td>0</td>\n",
              "      <td>781.30</td>\n",
              "    </tr>\n",
              "    <tr>\n",
              "      <th>3</th>\n",
              "      <td>14731</td>\n",
              "      <td>251.02</td>\n",
              "      <td>2</td>\n",
              "      <td>7</td>\n",
              "      <td>89</td>\n",
              "      <td>3.5</td>\n",
              "      <td>125.51</td>\n",
              "      <td>91.0</td>\n",
              "      <td>0</td>\n",
              "      <td>0</td>\n",
              "      <td>380.02</td>\n",
              "    </tr>\n",
              "    <tr>\n",
              "      <th>4</th>\n",
              "      <td>15467</td>\n",
              "      <td>402.56</td>\n",
              "      <td>2</td>\n",
              "      <td>7</td>\n",
              "      <td>29</td>\n",
              "      <td>3.5</td>\n",
              "      <td>201.28</td>\n",
              "      <td>117.5</td>\n",
              "      <td>0</td>\n",
              "      <td>0</td>\n",
              "      <td>511.88</td>\n",
              "    </tr>\n",
              "  </tbody>\n",
              "</table>\n",
              "</div>"
            ],
            "text/plain": [
              "  customer_id  monetary  frequency  ...  cnt_returns  has_returned  target_monetary\n",
              "0       17198    521.66          2  ...            0             0           692.22\n",
              "1       18180    601.85          2  ...            0             0          1843.75\n",
              "2       13884    189.95          2  ...            0             0           781.30\n",
              "3       14731    251.02          2  ...            0             0           380.02\n",
              "4       15467    402.56          2  ...            0             0           511.88\n",
              "\n",
              "[5 rows x 11 columns]"
            ]
          },
          "metadata": {
            "tags": []
          },
          "execution_count": 9
        }
      ]
    },
    {
      "cell_type": "markdown",
      "metadata": {
        "id": "E4cTePIkb8Yd",
        "colab_type": "text"
      },
      "source": [
        "トレーニング データを確認できたので、 AutoML で target_monetary 列を予測するモデルを作成します。\n",
        "target_monetary 列は金額で構成されているため、回帰モデルでモデル作成を行います。"
      ]
    },
    {
      "cell_type": "code",
      "metadata": {
        "id": "oauym3lRKv4g",
        "colab_type": "code",
        "colab": {
          "base_uri": "https://localhost:8080/",
          "height": 34
        },
        "outputId": "0778c7cf-a5df-4bdd-d48f-e1e37b9dd65a"
      },
      "source": [
        "query = '''\n",
        "CREATE OR REPLACE MODEL automl.ltv\n",
        "OPTIONS(input_label_cols=['target_monetary'], \n",
        "        model_type='automl_regressor')\n",
        "AS\n",
        "SELECT * EXCEPT(customer_id)\n",
        "FROM ltv.ltv_features\n",
        "'''\n",
        "client.query(query)"
      ],
      "execution_count": null,
      "outputs": [
        {
          "output_type": "execute_result",
          "data": {
            "text/plain": [
              "<google.cloud.bigquery.job.QueryJob at 0x7f7ecbe1ea20>"
            ]
          },
          "metadata": {
            "tags": []
          },
          "execution_count": 19
        }
      ]
    },
    {
      "cell_type": "markdown",
      "metadata": {
        "id": "5gKiw9DDJ1w8",
        "colab_type": "text"
      },
      "source": [
        "モデルを作成したら、予測を試します。"
      ]
    },
    {
      "cell_type": "code",
      "metadata": {
        "id": "Ii9j4rSCvD61",
        "colab_type": "code",
        "colab": {}
      },
      "source": [
        "query = \"\"\"\n",
        "SELECT * FROM ML.PREDICT(MODEL automl.ltv, (\n",
        "    SELECT * EXCEPT(customer_id) FROM `ltv.ltv_features` LIMIT 100))\n",
        "  \"\"\"\n",
        "df = client.query(query).to_dataframe()\n",
        "df"
      ],
      "execution_count": null,
      "outputs": []
    },
    {
      "cell_type": "markdown",
      "metadata": {
        "id": "lO27xGv1Clgs",
        "colab_type": "text"
      },
      "source": [
        "### クリーンアップ\n",
        "すべての作業が完了したら、以下のURLを参考に、プロジェクトを必要に応じてクリーンアップしてください。\n",
        "https://cloud.google.com/go/getting-started/delete-tutorial-resources?hl=ja"
      ]
    }
  ]
}