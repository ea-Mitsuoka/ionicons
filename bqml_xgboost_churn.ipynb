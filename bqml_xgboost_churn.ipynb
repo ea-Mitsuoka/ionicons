{
  "nbformat": 4,
  "nbformat_minor": 0,
  "metadata": {
    "colab": {
      "name": "bqml_xgboost_churn",
      "provenance": [],
      "include_colab_link": true
    },
    "kernelspec": {
      "name": "python3",
      "display_name": "Python 3"
    }
  },
  "cells": [
    {
      "cell_type": "markdown",
      "metadata": {
        "id": "view-in-github",
        "colab_type": "text"
      },
      "source": [
        "<a href=\"https://colab.research.google.com/github/ea-Mitsuoka/ionicons/blob/master/bqml_xgboost_churn.ipynb\" target=\"_parent\"><img src=\"https://colab.research.google.com/assets/colab-badge.svg\" alt=\"Open In Colab\"/></a>"
      ]
    },
    {
      "cell_type": "markdown",
      "metadata": {
        "id": "ufnRHzX6NKqi",
        "colab_type": "text"
      },
      "source": [
        "---\n",
        "```\n",
        "Copyright 2019 Google LLC\n",
        "\n",
        "Licensed under the Apache License, Version 2.0 (the \"License\"); you may not use this file except in compliance with the License. You may obtain a copy of the License at\n",
        "\n",
        "https://www.apache.org/licenses/LICENSE-2.0\n",
        "\n",
        "Unless required by applicable law or agreed to in writing, software distributed under the License is distributed on an \"AS IS\" BASIS, WITHOUT WARRANTIES OR CONDITIONS OF ANY KIND, either express or implied. See the License for the specific language governing permissions and limitations under the License.\n",
        "```\n",
        "---"
      ]
    },
    {
      "cell_type": "markdown",
      "metadata": {
        "id": "dB30suHhNvix",
        "colab_type": "text"
      },
      "source": [
        "# 概要\n",
        "このノートブックでは、BigQuery MLのXGBoostで解約予測モデル作成を行っています。\n",
        "\n",
        "\n",
        "### 費用\n",
        "\n",
        "このチュートリアルでは、Google BigQuery および BigQuery ML を使います。金額について詳細は  [BigQuery ML pricing](https://cloud.google.com/bigquery-ml/pricing) [Pricing\n",
        "Calculator](https://cloud.google.com/products/calculator/)\n",
        "を参照ください。"
      ]
    },
    {
      "cell_type": "markdown",
      "metadata": {
        "id": "5XV4Oxm3DmrX",
        "colab_type": "text"
      },
      "source": [
        ""
      ]
    },
    {
      "cell_type": "markdown",
      "metadata": {
        "id": "1FlmhAvVOPq6",
        "colab_type": "text"
      },
      "source": [
        "### 事前準備\n",
        "\n",
        "**このノートブックを実行するには事前に次の手順が必要です。**\n",
        "\n",
        "1. [GCP プロジェクトの作成もしくは選択](https://console.cloud.google.com/cloud-resource-manager). 最初にアカウントを作成すると、300ドルの無料クレジットが付与されます。\n",
        "\n",
        "2. [課金設定を有効にします](https://cloud.google.com/billing/docs/how-to/modify-project)\n",
        "\n",
        "3.   [BigQuery API](https://console.cloud.google.com/flows/enableapi?apiid=bigquery) を有効にします。\n",
        "\n",
        "4. 下のセルを実行し、Google アカウントでログインして表示されるキーをセルに入力します。\n",
        "\n",
        "5. 「プロジェクト変数の設定」のセルにご自身のプロジェクトIDを入力してください。"
      ]
    },
    {
      "cell_type": "code",
      "metadata": {
        "id": "4XokJlWcZXxV",
        "colab_type": "code",
        "colab": {
          "base_uri": "https://localhost:8080/",
          "height": 71
        },
        "outputId": "98c7a67e-f2dd-4b87-a2ae-bbfc2d093036"
      },
      "source": [
        "import pandas as pd\n",
        "import numpy as np\n",
        "import sys\n",
        "from google.cloud import bigquery\n",
        "from google.colab import auth\n",
        "import matplotlib.pyplot as plt\n",
        "import seaborn as sns"
      ],
      "execution_count": null,
      "outputs": [
        {
          "output_type": "stream",
          "text": [
            "/usr/local/lib/python3.6/dist-packages/statsmodels/tools/_testing.py:19: FutureWarning: pandas.util.testing is deprecated. Use the functions in the public API at pandas.testing instead.\n",
            "  import pandas.util.testing as tm\n"
          ],
          "name": "stderr"
        }
      ]
    },
    {
      "cell_type": "code",
      "metadata": {
        "id": "iLAZypbW8aEm",
        "colab_type": "code",
        "colab": {}
      },
      "source": [
        "auth.authenticate_user()"
      ],
      "execution_count": null,
      "outputs": []
    },
    {
      "cell_type": "code",
      "metadata": {
        "id": "LWhL7HaQBbFE",
        "colab_type": "code",
        "colab": {}
      },
      "source": [
        "#@title プロジェクト変数の設定 { run: \"auto\", display-mode: \"form\" }\n",
        "project_id = '' #@param {type:\"string\"}\n",
        "#dataset_name = \"ga\" #@param {type:\"string\"}\n",
        "client = bigquery.Client(project=project_id)"
      ],
      "execution_count": null,
      "outputs": []
    },
    {
      "cell_type": "markdown",
      "metadata": {
        "id": "sMQ90bpeBDrI",
        "colab_type": "text"
      },
      "source": [
        "まず、モデルを保存するためのデータセットが必要になります。 （エラーが発生した場合は、BigQueryコンソールから\"iris\"というデータセットを作成してください）。"
      ]
    },
    {
      "cell_type": "code",
      "metadata": {
        "id": "C_YFn7ArBF6X",
        "colab_type": "code",
        "colab": {
          "base_uri": "https://localhost:8080/",
          "height": 34
        },
        "outputId": "c8db0729-79aa-437a-c374-f8a3330c239f"
      },
      "source": [
        "%%bash -s \"$project_id\"\n",
        "\n",
        "gcloud config set project $1\n",
        "bq --location=US mk -d churn"
      ],
      "execution_count": null,
      "outputs": [
        {
          "output_type": "stream",
          "text": [
            "Process is terminated.\n"
          ],
          "name": "stdout"
        }
      ]
    },
    {
      "cell_type": "markdown",
      "metadata": {
        "id": "TJphDW5abpA4",
        "colab_type": "text"
      },
      "source": [
        "## データセット読み取り\n",
        "このセクションでは、Kaggleから読み込んだtelcoデータセットをクエリしています。"
      ]
    },
    {
      "cell_type": "code",
      "metadata": {
        "id": "H8Xx9qSBYSgv",
        "colab_type": "code",
        "colab": {}
      },
      "source": [
        "query = '''\n",
        "SELECT * from churn.telco\n",
        "'''\n",
        "df = client.query(query).to_dataframe()"
      ],
      "execution_count": null,
      "outputs": []
    },
    {
      "cell_type": "code",
      "metadata": {
        "id": "77E25TmWZL9z",
        "colab_type": "code",
        "colab": {
          "base_uri": "https://localhost:8080/",
          "height": 309
        },
        "outputId": "3f5be61d-2716-46bb-d3f1-dc67547d5ddb"
      },
      "source": [
        "df.head()"
      ],
      "execution_count": null,
      "outputs": [
        {
          "output_type": "execute_result",
          "data": {
            "text/html": [
              "<div>\n",
              "<style scoped>\n",
              "    .dataframe tbody tr th:only-of-type {\n",
              "        vertical-align: middle;\n",
              "    }\n",
              "\n",
              "    .dataframe tbody tr th {\n",
              "        vertical-align: top;\n",
              "    }\n",
              "\n",
              "    .dataframe thead th {\n",
              "        text-align: right;\n",
              "    }\n",
              "</style>\n",
              "<table border=\"1\" class=\"dataframe\">\n",
              "  <thead>\n",
              "    <tr style=\"text-align: right;\">\n",
              "      <th></th>\n",
              "      <th>customerID</th>\n",
              "      <th>gender</th>\n",
              "      <th>SeniorCitizen</th>\n",
              "      <th>Partner</th>\n",
              "      <th>Dependents</th>\n",
              "      <th>tenure</th>\n",
              "      <th>PhoneService</th>\n",
              "      <th>MultipleLines</th>\n",
              "      <th>InternetService</th>\n",
              "      <th>OnlineSecurity</th>\n",
              "      <th>OnlineBackup</th>\n",
              "      <th>DeviceProtection</th>\n",
              "      <th>TechSupport</th>\n",
              "      <th>StreamingTV</th>\n",
              "      <th>StreamingMovies</th>\n",
              "      <th>Contract</th>\n",
              "      <th>PaperlessBilling</th>\n",
              "      <th>PaymentMethod</th>\n",
              "      <th>MonthlyCharges</th>\n",
              "      <th>TotalCharges</th>\n",
              "      <th>Churn</th>\n",
              "    </tr>\n",
              "  </thead>\n",
              "  <tbody>\n",
              "    <tr>\n",
              "      <th>0</th>\n",
              "      <td>9732-OUYRN</td>\n",
              "      <td>Female</td>\n",
              "      <td>0</td>\n",
              "      <td>True</td>\n",
              "      <td>False</td>\n",
              "      <td>49</td>\n",
              "      <td>True</td>\n",
              "      <td>No</td>\n",
              "      <td>No</td>\n",
              "      <td>No internet service</td>\n",
              "      <td>No internet service</td>\n",
              "      <td>No internet service</td>\n",
              "      <td>No internet service</td>\n",
              "      <td>No internet service</td>\n",
              "      <td>No internet service</td>\n",
              "      <td>One year</td>\n",
              "      <td>False</td>\n",
              "      <td>Credit card (automatic)</td>\n",
              "      <td>19.0</td>\n",
              "      <td>918.7</td>\n",
              "      <td>False</td>\n",
              "    </tr>\n",
              "    <tr>\n",
              "      <th>1</th>\n",
              "      <td>0661-KQHNK</td>\n",
              "      <td>Female</td>\n",
              "      <td>0</td>\n",
              "      <td>True</td>\n",
              "      <td>True</td>\n",
              "      <td>6</td>\n",
              "      <td>True</td>\n",
              "      <td>No</td>\n",
              "      <td>No</td>\n",
              "      <td>No internet service</td>\n",
              "      <td>No internet service</td>\n",
              "      <td>No internet service</td>\n",
              "      <td>No internet service</td>\n",
              "      <td>No internet service</td>\n",
              "      <td>No internet service</td>\n",
              "      <td>One year</td>\n",
              "      <td>False</td>\n",
              "      <td>Credit card (automatic)</td>\n",
              "      <td>19.0</td>\n",
              "      <td>105.5</td>\n",
              "      <td>False</td>\n",
              "    </tr>\n",
              "    <tr>\n",
              "      <th>2</th>\n",
              "      <td>4709-LKHYG</td>\n",
              "      <td>Female</td>\n",
              "      <td>0</td>\n",
              "      <td>True</td>\n",
              "      <td>True</td>\n",
              "      <td>29</td>\n",
              "      <td>True</td>\n",
              "      <td>No</td>\n",
              "      <td>No</td>\n",
              "      <td>No internet service</td>\n",
              "      <td>No internet service</td>\n",
              "      <td>No internet service</td>\n",
              "      <td>No internet service</td>\n",
              "      <td>No internet service</td>\n",
              "      <td>No internet service</td>\n",
              "      <td>One year</td>\n",
              "      <td>False</td>\n",
              "      <td>Electronic check</td>\n",
              "      <td>20.0</td>\n",
              "      <td>540.05</td>\n",
              "      <td>False</td>\n",
              "    </tr>\n",
              "    <tr>\n",
              "      <th>3</th>\n",
              "      <td>9824-QCJPK</td>\n",
              "      <td>Male</td>\n",
              "      <td>0</td>\n",
              "      <td>True</td>\n",
              "      <td>False</td>\n",
              "      <td>36</td>\n",
              "      <td>True</td>\n",
              "      <td>No</td>\n",
              "      <td>No</td>\n",
              "      <td>No internet service</td>\n",
              "      <td>No internet service</td>\n",
              "      <td>No internet service</td>\n",
              "      <td>No internet service</td>\n",
              "      <td>No internet service</td>\n",
              "      <td>No internet service</td>\n",
              "      <td>One year</td>\n",
              "      <td>False</td>\n",
              "      <td>Mailed check</td>\n",
              "      <td>20.0</td>\n",
              "      <td>666.75</td>\n",
              "      <td>False</td>\n",
              "    </tr>\n",
              "    <tr>\n",
              "      <th>4</th>\n",
              "      <td>4716-MRVEN</td>\n",
              "      <td>Female</td>\n",
              "      <td>0</td>\n",
              "      <td>False</td>\n",
              "      <td>False</td>\n",
              "      <td>29</td>\n",
              "      <td>True</td>\n",
              "      <td>No</td>\n",
              "      <td>No</td>\n",
              "      <td>No internet service</td>\n",
              "      <td>No internet service</td>\n",
              "      <td>No internet service</td>\n",
              "      <td>No internet service</td>\n",
              "      <td>No internet service</td>\n",
              "      <td>No internet service</td>\n",
              "      <td>One year</td>\n",
              "      <td>False</td>\n",
              "      <td>Mailed check</td>\n",
              "      <td>20.0</td>\n",
              "      <td>599.3</td>\n",
              "      <td>False</td>\n",
              "    </tr>\n",
              "  </tbody>\n",
              "</table>\n",
              "</div>"
            ],
            "text/plain": [
              "   customerID  gender  SeniorCitizen  ...  MonthlyCharges  TotalCharges  Churn\n",
              "0  9732-OUYRN  Female              0  ...            19.0         918.7  False\n",
              "1  0661-KQHNK  Female              0  ...            19.0         105.5  False\n",
              "2  4709-LKHYG  Female              0  ...            20.0        540.05  False\n",
              "3  9824-QCJPK    Male              0  ...            20.0        666.75  False\n",
              "4  4716-MRVEN  Female              0  ...            20.0         599.3  False\n",
              "\n",
              "[5 rows x 21 columns]"
            ]
          },
          "metadata": {
            "tags": []
          },
          "execution_count": 6
        }
      ]
    },
    {
      "cell_type": "markdown",
      "metadata": {
        "id": "E4cTePIkb8Yd",
        "colab_type": "text"
      },
      "source": [
        "トレーニング データを確認できたので、 BQML で Churn 列を予測する XGBoost モデルを作成します。\n",
        "Churn 列は True か False で構成されているため、分類モデルでモデル作成を行います。"
      ]
    },
    {
      "cell_type": "code",
      "metadata": {
        "id": "oauym3lRKv4g",
        "colab_type": "code",
        "colab": {
          "base_uri": "https://localhost:8080/",
          "height": 34
        },
        "outputId": "0778c7cf-a5df-4bdd-d48f-e1e37b9dd65a"
      },
      "source": [
        "query = '''\n",
        "CREATE OR REPLACE MODEL churn.xgb_ltv\n",
        "OPTIONS(input_label_cols=['Churn'], \n",
        "        model_type='boosted_tree_classifier')\n",
        "AS\n",
        "SELECT *  FROM churn.telco\n",
        "'''\n",
        "client.query(query)"
      ],
      "execution_count": null,
      "outputs": [
        {
          "output_type": "execute_result",
          "data": {
            "text/plain": [
              "<google.cloud.bigquery.job.QueryJob at 0x7f7ecbe1ea20>"
            ]
          },
          "metadata": {
            "tags": []
          },
          "execution_count": 19
        }
      ]
    },
    {
      "cell_type": "markdown",
      "metadata": {
        "id": "5gKiw9DDJ1w8",
        "colab_type": "text"
      },
      "source": [
        "モデルを作成したら、予測を試します。"
      ]
    },
    {
      "cell_type": "code",
      "metadata": {
        "id": "Ii9j4rSCvD61",
        "colab_type": "code",
        "colab": {
          "base_uri": "https://localhost:8080/",
          "height": 419
        },
        "outputId": "4890673a-6902-4833-c151-5478de8ba7f4"
      },
      "source": [
        "query = \"\"\"\n",
        "SELECT customerID,predicted_Churn FROM ML.PREDICT(MODEL churn.xgb_ltv, TABLE churn.telco)\n",
        "  \"\"\"\n",
        "df = client.query(query).to_dataframe()\n",
        "df"
      ],
      "execution_count": null,
      "outputs": [
        {
          "output_type": "execute_result",
          "data": {
            "text/html": [
              "<div>\n",
              "<style scoped>\n",
              "    .dataframe tbody tr th:only-of-type {\n",
              "        vertical-align: middle;\n",
              "    }\n",
              "\n",
              "    .dataframe tbody tr th {\n",
              "        vertical-align: top;\n",
              "    }\n",
              "\n",
              "    .dataframe thead th {\n",
              "        text-align: right;\n",
              "    }\n",
              "</style>\n",
              "<table border=\"1\" class=\"dataframe\">\n",
              "  <thead>\n",
              "    <tr style=\"text-align: right;\">\n",
              "      <th></th>\n",
              "      <th>customerID</th>\n",
              "      <th>predicted_Churn</th>\n",
              "    </tr>\n",
              "  </thead>\n",
              "  <tbody>\n",
              "    <tr>\n",
              "      <th>0</th>\n",
              "      <td>9732-OUYRN</td>\n",
              "      <td>False</td>\n",
              "    </tr>\n",
              "    <tr>\n",
              "      <th>1</th>\n",
              "      <td>0661-KQHNK</td>\n",
              "      <td>False</td>\n",
              "    </tr>\n",
              "    <tr>\n",
              "      <th>2</th>\n",
              "      <td>4709-LKHYG</td>\n",
              "      <td>False</td>\n",
              "    </tr>\n",
              "    <tr>\n",
              "      <th>3</th>\n",
              "      <td>9824-QCJPK</td>\n",
              "      <td>False</td>\n",
              "    </tr>\n",
              "    <tr>\n",
              "      <th>4</th>\n",
              "      <td>4716-MRVEN</td>\n",
              "      <td>False</td>\n",
              "    </tr>\n",
              "    <tr>\n",
              "      <th>...</th>\n",
              "      <td>...</td>\n",
              "      <td>...</td>\n",
              "    </tr>\n",
              "    <tr>\n",
              "      <th>7038</th>\n",
              "      <td>5883-GTGVD</td>\n",
              "      <td>True</td>\n",
              "    </tr>\n",
              "    <tr>\n",
              "      <th>7039</th>\n",
              "      <td>5502-RLUYV</td>\n",
              "      <td>True</td>\n",
              "    </tr>\n",
              "    <tr>\n",
              "      <th>7040</th>\n",
              "      <td>3001-UNBTL</td>\n",
              "      <td>True</td>\n",
              "    </tr>\n",
              "    <tr>\n",
              "      <th>7041</th>\n",
              "      <td>5760-IFJOZ</td>\n",
              "      <td>True</td>\n",
              "    </tr>\n",
              "    <tr>\n",
              "      <th>7042</th>\n",
              "      <td>2081-VEYEH</td>\n",
              "      <td>False</td>\n",
              "    </tr>\n",
              "  </tbody>\n",
              "</table>\n",
              "<p>7043 rows × 2 columns</p>\n",
              "</div>"
            ],
            "text/plain": [
              "      customerID  predicted_Churn\n",
              "0     9732-OUYRN            False\n",
              "1     0661-KQHNK            False\n",
              "2     4709-LKHYG            False\n",
              "3     9824-QCJPK            False\n",
              "4     4716-MRVEN            False\n",
              "...          ...              ...\n",
              "7038  5883-GTGVD             True\n",
              "7039  5502-RLUYV             True\n",
              "7040  3001-UNBTL             True\n",
              "7041  5760-IFJOZ             True\n",
              "7042  2081-VEYEH            False\n",
              "\n",
              "[7043 rows x 2 columns]"
            ]
          },
          "metadata": {
            "tags": []
          },
          "execution_count": 7
        }
      ]
    },
    {
      "cell_type": "markdown",
      "metadata": {
        "id": "lO27xGv1Clgs",
        "colab_type": "text"
      },
      "source": [
        "### クリーンアップ\n",
        "すべての作業が完了したら、以下のURLを参考に、プロジェクトを必要に応じてクリーンアップしてください。\n",
        "https://cloud.google.com/go/getting-started/delete-tutorial-resources?hl=ja"
      ]
    }
  ]
}